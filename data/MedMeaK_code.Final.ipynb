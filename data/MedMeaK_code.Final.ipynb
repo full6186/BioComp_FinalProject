{
 "cells": [
  {
   "cell_type": "markdown",
   "metadata": {},
   "source": [
    "This is the code for the Median of Means (MedMeanK) from Puechmaille (2016).\n",
    "\n"
   ]
  },
  {
   "cell_type": "code",
   "execution_count": null,
   "metadata": {
    "collapsed": true
   },
   "outputs": [],
   "source": [
    "import csv\n",
    "import re\n",
    "import pandas as pd\n",
    "import numpy as np\n",
    "import glob"
   ]
  },
  {
   "cell_type": "code",
   "execution_count": null,
   "metadata": {
    "collapsed": true
   },
   "outputs": [],
   "source": [
    "def import_df(filename):\n",
    "    rows = []\n",
    "    with open(filename) as data:\n",
    "        for line in data:\n",
    "            if line.startswith(\"Inferred ancestry of individuals\"):\n",
    "                # skip header of table\n",
    "                next(data)\n",
    "                break\n",
    "        #Reads text until the end of the block:\n",
    "        k = -1 #set the value  \n",
    "        for line in data:\n",
    "            if not line.strip():#If Read empty line, break at end of table\n",
    "                break\n",
    "            words = line.split()\n",
    "            if k < 0 :\n",
    "                k = len(words)- words.index(':') - 1\n",
    "\n",
    "            d = dict(ind=words[1], pop=int(words[3]))\n",
    "            for i in range(k):\n",
    "                key = 'pop' + str(i)\n",
    "                value = float(words[5+i])\n",
    "                d[key] = value\n",
    "            rows.append(d)\n",
    "    \n",
    "    #Create a dataframe from the 'rows' list of dictionaries\n",
    "    #Will have format of: User Pop/Ind, PopId, and \n",
    "    #Population Proportion for each proposed K-value\n",
    "    df = pd.DataFrame(rows)\n",
    "\n",
    "    #Group the new Dataframe by PopId and take means for each population\n",
    "    df1 = df.groupby('pop', as_index = True).mean()\n",
    "\n",
    "    #Create an empty dataframe 'df2'\n",
    "    df2 = pd.DataFrame(dtype = int)\n",
    "\n",
    "    #Find the Median of the Means for each K-value over all Populations\n",
    "    Kmeanmax = df1.max(axis = 0)\n",
    "\n",
    "    #Append the empty dataframe with the Max Means of each K-value\n",
    "    df2 = df2.append(Kmeanmax, ignore_index = True)\n",
    "\n",
    "    #Assign the column names (i.e., pop0, pop1,..popN) to object 'cols'\n",
    "    cols = df2.columns\n",
    "\n",
    "    #Add a column to show original # of K-values tested for a certain file \n",
    "    df2['K_tested'] = df2.count(axis = 1)\n",
    "\n",
    "    #Test each Max Mean of each K-value against a threshold value (user-defined) \n",
    "    #And sum the K-values that meet the threshhold, disgarding the ones that don't\n",
    "    #Make the ouput a new column at the end of the dataframe\n",
    "    df2['K_Actual'] = (df2[cols].values > 0.5).sum(axis = 1)\n",
    "\n",
    "    df2['Filename'] = filename\n",
    "    return df2"
   ]
  },
  {
   "cell_type": "code",
   "execution_count": null,
   "metadata": {
    "collapsed": true
   },
   "outputs": [],
   "source": [
    "#Creates one large dataframe of all Results input!\n",
    "allres = []\n",
    "for ff in glob.glob(\"../data/Results.copy.NoK1/*_f\"):\n",
    "    allres.append(import_df(ff))"
   ]
  },
  {
   "cell_type": "code",
   "execution_count": null,
   "metadata": {
    "collapsed": false
   },
   "outputs": [],
   "source": [
    "#Since all of the files in your Results Folder are now in a list with defined threshholds, and testing\n",
    "#against those thresholds, we can concatenate all of the dataframes together and begin to parse the data\n",
    "ar_concat = pd.concat(allres)\n",
    "\n",
    "#Now we will sort values in the table on K-tested column, which is what we want\n",
    "##Note, the proportion of individual membership columns get automatically sorted with the\n",
    "#function 'concatenate' -- this sorts lexicographically (alphabetically, instead of numerically) and raises \n",
    "#issues while parsing the data -- note that if user wants to see the proportions for each K-value over each grouping\n",
    "#of K, it is not trivial at this time\n",
    "\n",
    "#this probelem has been noticed on github, yet there is no solution at the current time -- problems likely\n",
    "#lie in the way I have input data that create the indices for the DataFrames -- online tutorials say I need \n",
    "#to convert my indices into objects to be sorted numerically\n",
    "ar_concat = ar_concat.sort_values('K_tested')\n",
    "\n",
    "#We can now 'groupby' the K-tested column (splits into groups of user-defined K-values) and take\n",
    "#median of the 'K-Actual' column -- providing us our K-estimate for each iteration of K in this Results folder! \n",
    "groupby_K_tested = ar_concat['K_Actual'].groupby(ar_concat['K_tested']).median()\n",
    "\n",
    "#Take the Median of the medians over all K-tested \n",
    "MedMeanK = groupby_K_tested.median()\n",
    "\n",
    "\n",
    "#Output for User -- Median of Means K estimate\n",
    "MedMeanK"
   ]
  }
 ],
 "metadata": {
  "anaconda-cloud": {},
  "kernelspec": {
   "display_name": "Python [conda root]",
   "language": "python",
   "name": "conda-root-py"
  },
  "language_info": {
   "codemirror_mode": {
    "name": "ipython",
    "version": 3
   },
   "file_extension": ".py",
   "mimetype": "text/x-python",
   "name": "python",
   "nbconvert_exporter": "python",
   "pygments_lexer": "ipython3",
   "version": "3.5.2"
  }
 },
 "nbformat": 4,
 "nbformat_minor": 1
}
